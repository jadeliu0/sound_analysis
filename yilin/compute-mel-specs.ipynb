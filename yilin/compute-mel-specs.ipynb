{
 "cells": [
  {
   "cell_type": "code",
   "execution_count": 18,
   "metadata": {},
   "outputs": [],
   "source": [
    "import os \n",
    "import matplotlib as plt\n",
    "matplotlib.use('Agg') # No pictures displayed \n",
    "import pylab\n",
    "import librosa\n",
    "import matplotlib.pyplot as plt\n",
    "import librosa.display\n",
    "import numpy as np"
   ]
  },
  {
   "cell_type": "code",
   "execution_count": 20,
   "metadata": {},
   "outputs": [],
   "source": [
    "def plot_spectrogram(path, dest_path):\n",
    "    sig, fs = librosa.load(path)   \n",
    "\n",
    "    pylab.axis('off') # no axis\n",
    "    pylab.axes([0., 0., 1., 1.], frameon=False, xticks=[], yticks=[]) # Remove the white edge\n",
    "    S = librosa.feature.melspectrogram(y=sig, sr=fs)\n",
    "    librosa.display.specshow(librosa.power_to_db(S, ref=np.max))\n",
    "    plt.show()\n",
    "    pylab.savefig(dest_path, bbox_inches=None, pad_inches=0)\n",
    "    pylab.close()\n",
    "    \n",
    "    \n",
    "plot_spectrogram(\"sound_1_part1.mp3\", \"sample1.png\")\n",
    "plot_spectrogram(\"sound_1_part2.mp3\", \"sample2.png\")\n",
    "plot_spectrogram(\"sound_clear_part1.mp3\", \"sample3.png\")\n",
    "plot_spectrogram(\"sound_clear_part2.mp3\", \"sample4.png\")"
   ]
  },
  {
   "cell_type": "code",
   "execution_count": null,
   "metadata": {},
   "outputs": [],
   "source": []
  }
 ],
 "metadata": {
  "kernelspec": {
   "display_name": "Python 3",
   "language": "python",
   "name": "python3"
  },
  "language_info": {
   "codemirror_mode": {
    "name": "ipython",
    "version": 3
   },
   "file_extension": ".py",
   "mimetype": "text/x-python",
   "name": "python",
   "nbconvert_exporter": "python",
   "pygments_lexer": "ipython3",
   "version": "3.7.2"
  }
 },
 "nbformat": 4,
 "nbformat_minor": 2
}
